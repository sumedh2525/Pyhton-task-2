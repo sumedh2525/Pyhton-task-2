{
 "cells": [
  {
   "cell_type": "code",
   "execution_count": 2,
   "id": "a7bf70cb-33b0-4caf-91de-366a531f7052",
   "metadata": {},
   "outputs": [
    {
     "name": "stdout",
     "output_type": "stream",
     "text": [
      "Invalid Password\n"
     ]
    }
   ],
   "source": [
    "import re\n",
    "password = 'SS_@bagare#'\n",
    "flag = 0\n",
    "while True:\n",
    "    if (len(password) <=  10):\n",
    "        flag = -1\n",
    "        break\n",
    "    elif not re.search(\"a-z\" , password):\n",
    "        flag = -1\n",
    "        break\n",
    "    elif not re.search(\"A-Z\", password):\n",
    "        flag = -1\n",
    "        break\n",
    "    elif not re.search(\"0-9\" , password):\n",
    "        flag = -1\n",
    "        break\n",
    "    elif not re.search(\"[_@#]\" , password):\n",
    "        flag - -1\n",
    "        break\n",
    "    elif re.search(\"\\s\" , password):\n",
    "        flag = -1\n",
    "        break\n",
    "    else:\n",
    "        flag = 0\n",
    "        print(\"valid Password\")\n",
    "        break\n",
    "        \n",
    "if flag == -1:\n",
    "    print(\"Invalid Password\")\n",
    "    \n"
   ]
  },
  {
   "cell_type": "code",
   "execution_count": 4,
   "id": "7eb6a0f1-b901-4e77-b065-a793d371b9f7",
   "metadata": {},
   "outputs": [
    {
     "name": "stdout",
     "output_type": "stream",
     "text": [
      "[('orange', 80), ('mango', 99), ('grapes', 1000)]\n"
     ]
    }
   ],
   "source": [
    "# Q2. Solve the below-given questions using at least one of the following:\n",
    "\n",
    "# Sort a list of tuples having fruit names and their quantity. [(\"mango\",99),(\"orange\",80), (\"grapes\", 1000)-\n",
    "\n",
    "lst = [(\"mango\",99),(\"orange\",80), (\"grapes\", 1000)]\n",
    "\n",
    "def sort(lst):\n",
    "    lst.sort(key = lambda x: x[1])\n",
    "    return lst\n",
    "print(sort(lst))\n",
    "    "
   ]
  },
  {
   "cell_type": "code",
   "execution_count": 7,
   "id": "80a543b4-7952-43ca-85a1-576ab69ef973",
   "metadata": {},
   "outputs": [
    {
     "name": "stdout",
     "output_type": "stream",
     "text": [
      "The square of numbers is : 1\n",
      "The square of numbers is : 4\n",
      "The square of numbers is : 9\n",
      "The square of numbers is : 16\n",
      "The square of numbers is : 25\n",
      "The square of numbers is : 36\n",
      "The square of numbers is : 49\n",
      "The square of numbers is : 64\n",
      "The square of numbers is : 81\n",
      "9\n"
     ]
    }
   ],
   "source": [
    "# Find the squares of numbers from 1 to 10Y\n",
    "\n",
    "for i in range(1,10):\n",
    "    print(\"The square of numbers is :\" , i**2)\n",
    "    \n",
    "print(i)"
   ]
  },
  {
   "cell_type": "code",
   "execution_count": 15,
   "id": "8195dad8-7d25-4414-8adb-0d5aa01bcabe",
   "metadata": {},
   "outputs": [
    {
     "name": "stdout",
     "output_type": "stream",
     "text": [
      "1\n",
      "3\n",
      "5\n",
      "7\n",
      "9\n"
     ]
    }
   ],
   "source": [
    "# Filter odd numbers from the given list.\n",
    "\n",
    "lst = [1,2,3,4,5,6,7,8,9,10]\n",
    "for num in lst:\n",
    "    if num %2!=0:\n",
    "        print(num)\n",
    "            \n"
   ]
  },
  {
   "cell_type": "code",
   "execution_count": 27,
   "id": "80e4f1d1-60bc-4a81-a2c9-5e821d4f5524",
   "metadata": {},
   "outputs": [
    {
     "name": "stdout",
     "output_type": "stream",
     "text": [
      "[1, 2, 3, 4, 5, 6, -1, -2, -3, -4, -5, 0]\n"
     ]
    }
   ],
   "source": [
    "#  Sort a list of integers into positive and negative integers lists.\n",
    "#  [1,2,3,4,5,6,-1,-2,-3,-4,-5,0]\n",
    "\n",
    "\n",
    "lst = [1,2,3,4,5,6,-1,-2,-3,-4,-5,0]\n",
    "\n",
    "\n",
    "lst1 = sorted(lst , key = lambda x : 0 if x==0 else -1)\n",
    "print(str(lst1))"
   ]
  },
  {
   "cell_type": "code",
   "execution_count": null,
   "id": "29f2c6f8-68b7-453d-8343-b3fd362b31c9",
   "metadata": {},
   "outputs": [],
   "source": []
  }
 ],
 "metadata": {
  "kernelspec": {
   "display_name": "Python 3 (ipykernel)",
   "language": "python",
   "name": "python3"
  },
  "language_info": {
   "codemirror_mode": {
    "name": "ipython",
    "version": 3
   },
   "file_extension": ".py",
   "mimetype": "text/x-python",
   "name": "python",
   "nbconvert_exporter": "python",
   "pygments_lexer": "ipython3",
   "version": "3.10.8"
  }
 },
 "nbformat": 4,
 "nbformat_minor": 5
}
